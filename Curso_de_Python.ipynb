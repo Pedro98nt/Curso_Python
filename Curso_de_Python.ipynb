{
  "nbformat": 4,
  "nbformat_minor": 0,
  "metadata": {
    "colab": {
      "provenance": [],
      "collapsed_sections": [
        "w3QHx_RtyTP0",
        "_6xOSf0Gzs1N",
        "qaGF4GWc67Ou"
      ],
      "authorship_tag": "ABX9TyMQksK8d/fefV1lxFrgLE/p",
      "include_colab_link": true
    },
    "kernelspec": {
      "name": "python3",
      "display_name": "Python 3"
    },
    "language_info": {
      "name": "python"
    }
  },
  "cells": [
    {
      "cell_type": "markdown",
      "metadata": {
        "id": "view-in-github",
        "colab_type": "text"
      },
      "source": [
        "<a href=\"https://colab.research.google.com/github/Pedro98nt/Curso_Python/blob/master/Curso_de_Python.ipynb\" target=\"_parent\"><img src=\"https://colab.research.google.com/assets/colab-badge.svg\" alt=\"Open In Colab\"/></a>"
      ]
    },
    {
      "cell_type": "markdown",
      "source": [
        "modulo 1\n"
      ],
      "metadata": {
        "id": "HeZ2JXGAP_1S"
      }
    },
    {
      "cell_type": "code",
      "execution_count": null,
      "metadata": {
        "colab": {
          "base_uri": "https://localhost:8080/"
        },
        "id": "9thjjh67LeZn",
        "outputId": "ca1d596e-9bad-4758-9503-64149d190787"
      },
      "outputs": [
        {
          "output_type": "stream",
          "name": "stdout",
          "text": [
            "ola mundo !\n"
          ]
        }
      ],
      "source": [
        "print('ola mundo !')"
      ]
    },
    {
      "cell_type": "code",
      "source": [
        "print(10)"
      ],
      "metadata": {
        "colab": {
          "base_uri": "https://localhost:8080/"
        },
        "id": "8UQxkUxOpg8g",
        "outputId": "4687a7ae-f32b-49bb-ebb3-06010e5184e0"
      },
      "execution_count": null,
      "outputs": [
        {
          "output_type": "stream",
          "name": "stdout",
          "text": [
            "10\n"
          ]
        }
      ]
    },
    {
      "cell_type": "code",
      "source": [
        "print('Pedro', 24)"
      ],
      "metadata": {
        "colab": {
          "base_uri": "https://localhost:8080/"
        },
        "id": "ZuZUAPptpi0q",
        "outputId": "864fda47-427a-419b-e7f1-0c0ca0252de8"
      },
      "execution_count": null,
      "outputs": [
        {
          "output_type": "stream",
          "name": "stdout",
          "text": [
            "Pedro 24\n"
          ]
        }
      ]
    },
    {
      "cell_type": "markdown",
      "source": [
        "Desafio 1\n"
      ],
      "metadata": {
        "id": "GaW1dqhJpwMP"
      }
    },
    {
      "cell_type": "code",
      "source": [
        "print('pedro', 'soares')"
      ],
      "metadata": {
        "colab": {
          "base_uri": "https://localhost:8080/"
        },
        "id": "R8VefjzdpyM_",
        "outputId": "27424166-c31e-481e-b60d-f324dfc42cb8"
      },
      "execution_count": null,
      "outputs": [
        {
          "output_type": "stream",
          "name": "stdout",
          "text": [
            "pedro soares\n"
          ]
        }
      ]
    },
    {
      "cell_type": "markdown",
      "source": [
        "##Variaveis\n"
      ],
      "metadata": {
        "id": "w3QHx_RtyTP0"
      }
    },
    {
      "cell_type": "code",
      "source": [
        "idade = 10"
      ],
      "metadata": {
        "id": "sF5SmvOwyPte"
      },
      "execution_count": null,
      "outputs": []
    },
    {
      "cell_type": "code",
      "source": [
        "print(idade)"
      ],
      "metadata": {
        "colab": {
          "base_uri": "https://localhost:8080/"
        },
        "id": "XOJ0m2bIyeSP",
        "outputId": "beb15427-ce59-4e58-80c3-d9cf568aad11"
      },
      "execution_count": null,
      "outputs": [
        {
          "output_type": "stream",
          "name": "stdout",
          "text": [
            "10\n"
          ]
        }
      ]
    },
    {
      "cell_type": "code",
      "source": [
        "idade = 10\n",
        "print(idade)\n"
      ],
      "metadata": {
        "id": "SycXkANzykh4"
      },
      "execution_count": null,
      "outputs": []
    },
    {
      "cell_type": "code",
      "source": [
        "idade = 15\n",
        "idade"
      ],
      "metadata": {
        "colab": {
          "base_uri": "https://localhost:8080/"
        },
        "id": "ytg-YibbyynE",
        "outputId": "b0f67063-3d65-4bb7-b43b-fc615d83d212"
      },
      "execution_count": null,
      "outputs": [
        {
          "output_type": "execute_result",
          "data": {
            "text/plain": [
              "15"
            ]
          },
          "metadata": {},
          "execution_count": 10
        }
      ]
    },
    {
      "cell_type": "code",
      "source": [
        "nome = 'Pedro '\n",
        "nome"
      ],
      "metadata": {
        "colab": {
          "base_uri": "https://localhost:8080/",
          "height": 35
        },
        "id": "LNz-o21tzBj5",
        "outputId": "b807f754-06dc-4e49-afb5-20dba3b6f7a1"
      },
      "execution_count": null,
      "outputs": [
        {
          "output_type": "execute_result",
          "data": {
            "text/plain": [
              "'Pedro '"
            ],
            "application/vnd.google.colaboratory.intrinsic+json": {
              "type": "string"
            }
          },
          "metadata": {},
          "execution_count": 11
        }
      ]
    },
    {
      "cell_type": "markdown",
      "source": [
        "##Tipos de Variáveis\n"
      ],
      "metadata": {
        "id": "_6xOSf0Gzs1N"
      }
    },
    {
      "cell_type": "code",
      "source": [
        "int\n",
        "float\n",
        "str\n",
        "bool"
      ],
      "metadata": {
        "id": "F1N3ZJDCzxT-"
      },
      "execution_count": null,
      "outputs": []
    },
    {
      "cell_type": "code",
      "source": [
        "i = 5\n",
        "type(i)"
      ],
      "metadata": {
        "colab": {
          "base_uri": "https://localhost:8080/"
        },
        "id": "xXoDwGJH5Dpw",
        "outputId": "efe8da47-c84f-4832-8fb7-edeaa7c53d6d"
      },
      "execution_count": null,
      "outputs": [
        {
          "output_type": "execute_result",
          "data": {
            "text/plain": [
              "int"
            ]
          },
          "metadata": {},
          "execution_count": 1
        }
      ]
    },
    {
      "cell_type": "code",
      "source": [
        "f = 9.8\n",
        "type(f)"
      ],
      "metadata": {
        "colab": {
          "base_uri": "https://localhost:8080/"
        },
        "id": "k8Vx6a4Z5wXD",
        "outputId": "53791554-0d32-4ee9-a5ea-6ce626a889c2"
      },
      "execution_count": null,
      "outputs": [
        {
          "output_type": "execute_result",
          "data": {
            "text/plain": [
              "float"
            ]
          },
          "metadata": {},
          "execution_count": 2
        }
      ]
    },
    {
      "cell_type": "code",
      "source": [
        "s = 'pedro'\n",
        "type(s)"
      ],
      "metadata": {
        "colab": {
          "base_uri": "https://localhost:8080/"
        },
        "id": "bgudU1x35047",
        "outputId": "59d20264-6e6f-404c-bad0-bdbf99a89f66"
      },
      "execution_count": null,
      "outputs": [
        {
          "output_type": "execute_result",
          "data": {
            "text/plain": [
              "str"
            ]
          },
          "metadata": {},
          "execution_count": 3
        }
      ]
    },
    {
      "cell_type": "code",
      "source": [
        "b = True\n",
        "type(b)"
      ],
      "metadata": {
        "colab": {
          "base_uri": "https://localhost:8080/"
        },
        "id": "tdV-VDrt56Xs",
        "outputId": "09b028c2-6a83-4952-b8f7-c5af863fc82e"
      },
      "execution_count": null,
      "outputs": [
        {
          "output_type": "execute_result",
          "data": {
            "text/plain": [
              "bool"
            ]
          },
          "metadata": {},
          "execution_count": 4
        }
      ]
    },
    {
      "cell_type": "code",
      "source": [
        "nome_aluno = 'pedro'\n",
        "idade_aluno = 25\n",
        "media_aluno = 8.45\n",
        "situacao_aprovado = True\n",
        "\n",
        "\n",
        "print(nome_aluno , idade_aluno , media_aluno , situacao_aprovado)\n"
      ],
      "metadata": {
        "colab": {
          "base_uri": "https://localhost:8080/"
        },
        "id": "tuNOq36t6IGV",
        "outputId": "c6ef53e0-ce9b-4467-b78d-49a80b11ee94"
      },
      "execution_count": null,
      "outputs": [
        {
          "output_type": "stream",
          "name": "stdout",
          "text": [
            "pedro 25 8.45 True\n"
          ]
        }
      ]
    },
    {
      "cell_type": "markdown",
      "source": [
        "##Variaveis numericas\n"
      ],
      "metadata": {
        "id": "qaGF4GWc67Ou"
      }
    },
    {
      "cell_type": "code",
      "source": [
        " q_seguranca = 5\n",
        " s_seguranca = 3000\n",
        "\n",
        " q_docente = 16\n",
        " s_docente = 600\n",
        "\n",
        " q_diretoria = 1\n",
        " s_diretoria = 12500\n",
        " "
      ],
      "metadata": {
        "id": "nXq0EVud7Dic"
      },
      "execution_count": null,
      "outputs": []
    },
    {
      "cell_type": "code",
      "source": [
        "total_empregados = q_seguranca+q_diretoria+q_docente\n",
        "\n",
        "total_empregados"
      ],
      "metadata": {
        "colab": {
          "base_uri": "https://localhost:8080/"
        },
        "id": "b7sQispE7nXk",
        "outputId": "804c76b5-c241-4386-c0d5-3618f01c7097"
      },
      "execution_count": null,
      "outputs": [
        {
          "output_type": "execute_result",
          "data": {
            "text/plain": [
              "22"
            ]
          },
          "metadata": {},
          "execution_count": 7
        }
      ]
    },
    {
      "cell_type": "code",
      "source": [
        "diferenca_salario = s_seguranca - s_diretoria\n",
        "diferenca_salario"
      ],
      "metadata": {
        "colab": {
          "base_uri": "https://localhost:8080/"
        },
        "id": "ie28aC5r8O6_",
        "outputId": "63c2485b-cb24-44b1-b742-80acc6d067dc"
      },
      "execution_count": null,
      "outputs": [
        {
          "output_type": "execute_result",
          "data": {
            "text/plain": [
              "-9500"
            ]
          },
          "metadata": {},
          "execution_count": 8
        }
      ]
    },
    {
      "cell_type": "code",
      "source": [
        "media = (q_seguranca*s_seguranca + q_diretoria* s_diretoria + q_docente*s_docente) / (total_empregados)\n",
        "\n",
        "media"
      ],
      "metadata": {
        "colab": {
          "base_uri": "https://localhost:8080/"
        },
        "id": "u3Gg_YUS8c2x",
        "outputId": "cc424d6a-2b29-4fa9-fb0c-eb4460de0375"
      },
      "execution_count": null,
      "outputs": [
        {
          "output_type": "execute_result",
          "data": {
            "text/plain": [
              "1686.3636363636363"
            ]
          },
          "metadata": {},
          "execution_count": 9
        }
      ]
    },
    {
      "cell_type": "markdown",
      "source": [
        "##Strings\n"
      ],
      "metadata": {
        "id": "T-VH1QRp9OtT"
      }
    },
    {
      "cell_type": "code",
      "source": [
        "s1 = 'alura'\n",
        "s2 = \"alura2\"\n",
        "\n",
        "print(type(s1),type(s2))"
      ],
      "metadata": {
        "colab": {
          "base_uri": "https://localhost:8080/"
        },
        "id": "y84MqRSU-FIf",
        "outputId": "7db8986e-e65c-4eb1-fd67-f882d58b5bda"
      },
      "execution_count": null,
      "outputs": [
        {
          "output_type": "stream",
          "name": "stdout",
          "text": [
            "<class 'str'> <class 'str'>\n"
          ]
        }
      ]
    },
    {
      "cell_type": "code",
      "source": [
        "texto = \"pedro soares de carvalho neto\"\n",
        "\n",
        "#letra maiusculas\n",
        "texto.upper()"
      ],
      "metadata": {
        "colab": {
          "base_uri": "https://localhost:8080/",
          "height": 35
        },
        "id": "suqFyJAm-oOf",
        "outputId": "39b3e89b-3e85-4191-9fe3-3a4fc196f6c7"
      },
      "execution_count": null,
      "outputs": [
        {
          "output_type": "execute_result",
          "data": {
            "text/plain": [
              "'PEDRO SOARES DE CARVALHO NETO'"
            ],
            "application/vnd.google.colaboratory.intrinsic+json": {
              "type": "string"
            }
          },
          "metadata": {},
          "execution_count": 14
        }
      ]
    },
    {
      "cell_type": "code",
      "source": [
        "#letra minuscula \n",
        "texto.lower()"
      ],
      "metadata": {
        "colab": {
          "base_uri": "https://localhost:8080/",
          "height": 35
        },
        "id": "vqSc1SyF_O2X",
        "outputId": "74211624-95df-4f5b-ccc7-44221fe5b54b"
      },
      "execution_count": null,
      "outputs": [
        {
          "output_type": "execute_result",
          "data": {
            "text/plain": [
              "'pedro soares de carvalho neto'"
            ],
            "application/vnd.google.colaboratory.intrinsic+json": {
              "type": "string"
            }
          },
          "metadata": {},
          "execution_count": 15
        }
      ]
    },
    {
      "cell_type": "code",
      "source": [
        "#remove os espaços em brancos \n",
        "texto.strip()"
      ],
      "metadata": {
        "colab": {
          "base_uri": "https://localhost:8080/",
          "height": 35
        },
        "id": "_n4P_7bM_WqC",
        "outputId": "3ec526b8-625f-42e1-a75c-3c9f4f160e7a"
      },
      "execution_count": null,
      "outputs": [
        {
          "output_type": "execute_result",
          "data": {
            "text/plain": [
              "'pedro soares de carvalho neto'"
            ],
            "application/vnd.google.colaboratory.intrinsic+json": {
              "type": "string"
            }
          },
          "metadata": {},
          "execution_count": 16
        }
      ]
    },
    {
      "cell_type": "code",
      "source": [
        "# metodo de substitui todas as ocorrencias do texto \"antigo\" na string por \"novo\"\n",
        "texto.replace(\"pedro\", \"lucas\")"
      ],
      "metadata": {
        "colab": {
          "base_uri": "https://localhost:8080/",
          "height": 35
        },
        "id": "JLoRi5Bg_iw4",
        "outputId": "fd1a4623-f2f0-4c33-bdbc-3617a2b4c22f"
      },
      "execution_count": null,
      "outputs": [
        {
          "output_type": "execute_result",
          "data": {
            "text/plain": [
              "'lucas soares de carvalho neto'"
            ],
            "application/vnd.google.colaboratory.intrinsic+json": {
              "type": "string"
            }
          },
          "metadata": {},
          "execution_count": 17
        }
      ]
    },
    {
      "cell_type": "code",
      "source": [
        "texto = texto.strip().replace(\"lucas\", \"pedro\").upper()\n",
        "texto"
      ],
      "metadata": {
        "colab": {
          "base_uri": "https://localhost:8080/",
          "height": 35
        },
        "id": "rNHF2uK2AP3Q",
        "outputId": "32065a60-401a-47fa-e116-d0ee864c1f08"
      },
      "execution_count": null,
      "outputs": [
        {
          "output_type": "execute_result",
          "data": {
            "text/plain": [
              "'PEDRO SOARES DE CARVALHO NETO'"
            ],
            "application/vnd.google.colaboratory.intrinsic+json": {
              "type": "string"
            }
          },
          "metadata": {},
          "execution_count": 20
        }
      ]
    },
    {
      "cell_type": "markdown",
      "source": [
        "##Coletando dados\n"
      ],
      "metadata": {
        "id": "Hbk2V0rgBCej"
      }
    },
    {
      "cell_type": "code",
      "source": [
        "nome = input('Escreva seu nome: ')"
      ],
      "metadata": {
        "colab": {
          "base_uri": "https://localhost:8080/"
        },
        "id": "vdteTNQeBFo9",
        "outputId": "fbd51c05-dc4d-47be-8bb3-f5fbf6db0e15"
      },
      "execution_count": null,
      "outputs": [
        {
          "name": "stdout",
          "output_type": "stream",
          "text": [
            "Escreva seu nome: Pedro\n"
          ]
        }
      ]
    },
    {
      "cell_type": "code",
      "source": [
        "ano_entrada = input('escreva o ano de ingresso do(a) estudante:')"
      ],
      "metadata": {
        "colab": {
          "base_uri": "https://localhost:8080/"
        },
        "id": "kXjwDCdzB8rI",
        "outputId": "6f44c737-1516-426d-ab08-a4d443f354b7"
      },
      "execution_count": null,
      "outputs": [
        {
          "name": "stdout",
          "output_type": "stream",
          "text": [
            "escreva o ano de ingresso do(a) estudante:2023\n"
          ]
        }
      ]
    },
    {
      "cell_type": "code",
      "source": [
        "type(ano_entrada)"
      ],
      "metadata": {
        "colab": {
          "base_uri": "https://localhost:8080/"
        },
        "id": "Qxf0JbgMCQN5",
        "outputId": "1c9fcb56-ad7f-4b07-9703-044a24baa327"
      },
      "execution_count": null,
      "outputs": [
        {
          "output_type": "execute_result",
          "data": {
            "text/plain": [
              "str"
            ]
          },
          "metadata": {},
          "execution_count": 3
        }
      ]
    },
    {
      "cell_type": "code",
      "source": [
        "ano_entrada = int(input('escreva o ano de ingresso do(a) estudante:'))\n",
        "print(f'ano de entrada {ano_entrada} - nota do teste de ingresso{nota_entrada}')"
      ],
      "metadata": {
        "colab": {
          "base_uri": "https://localhost:8080/"
        },
        "id": "-UIRc-KZCbPi",
        "outputId": "c4c5c86b-4a75-46be-c741-e9906319b1b0"
      },
      "execution_count": null,
      "outputs": [
        {
          "output_type": "stream",
          "name": "stdout",
          "text": [
            "escreva o ano de ingresso do(a) estudante:2022\n",
            "ano de entrada 2022 - nota do teste de ingresso10.0\n"
          ]
        }
      ]
    },
    {
      "cell_type": "code",
      "source": [
        "nota_entrada = float(input('Digite a nota do teste de ingresso: '))\n",
        "print(f'Ano de entrada {ano_entrada} - nota do teste de ingresso {nota_entrada}')\n",
        "\n"
      ],
      "metadata": {
        "colab": {
          "base_uri": "https://localhost:8080/"
        },
        "id": "egd976R3TuVg",
        "outputId": "b8ce1ae3-323e-4fdd-977b-4d748999c10b"
      },
      "execution_count": null,
      "outputs": [
        {
          "output_type": "stream",
          "name": "stdout",
          "text": [
            "Digite a nota do teste de ingresso: 10\n",
            "Ano de entrada 2025 - nota do teste de ingresso 10.0\n"
          ]
        }
      ]
    },
    {
      "cell_type": "code",
      "source": [
        "type(ano_entrada)"
      ],
      "metadata": {
        "id": "dK0RzuXCCkbS",
        "outputId": "7e42c614-fe44-4ded-ff32-7a331170b25d",
        "colab": {
          "base_uri": "https://localhost:8080/"
        }
      },
      "execution_count": null,
      "outputs": [
        {
          "output_type": "execute_result",
          "data": {
            "text/plain": [
              "int"
            ]
          },
          "metadata": {},
          "execution_count": 7
        }
      ]
    },
    {
      "cell_type": "markdown",
      "source": [],
      "metadata": {
        "id": "GRPFZl_Uof2n"
      }
    },
    {
      "cell_type": "markdown",
      "source": [
        "##Modulo de Estruturas Condicionais\n"
      ],
      "metadata": {
        "id": "nLYykbBiohu2"
      }
    },
    {
      "cell_type": "code",
      "source": [
        "#if e else\n",
        "\n",
        "if 2<7:\n",
        "  print('condição verdadeira')\n"
      ],
      "metadata": {
        "colab": {
          "base_uri": "https://localhost:8080/"
        },
        "id": "1ajKk2OYoouL",
        "outputId": "280b315a-04f1-403a-9183-f1c2ad7d9be7"
      },
      "execution_count": null,
      "outputs": [
        {
          "output_type": "stream",
          "name": "stdout",
          "text": [
            "condição verdadeira\n"
          ]
        }
      ]
    },
    {
      "cell_type": "code",
      "source": [
        "if 2<7:\n",
        "  print('condição verdadeira')\n",
        "else:\n",
        "    print('condição falsa')"
      ],
      "metadata": {
        "colab": {
          "base_uri": "https://localhost:8080/"
        },
        "id": "wTIz2S4isOXr",
        "outputId": "48407dfb-c41a-4ddf-a700-6213938c14d3"
      },
      "execution_count": null,
      "outputs": [
        {
          "output_type": "stream",
          "name": "stdout",
          "text": [
            "condição verdadeira\n"
          ]
        }
      ]
    },
    {
      "cell_type": "code",
      "source": [
        "media = float(input('digite a media:'))\n",
        "\n",
        "if media >= 6.0:\n",
        "  print('aprovado(a)')\n",
        "else:\n",
        "  print('reprovado(a)')    "
      ],
      "metadata": {
        "colab": {
          "base_uri": "https://localhost:8080/"
        },
        "id": "FLahl0ESuYmG",
        "outputId": "20e109e7-52ba-485a-838c-c4033791dab7"
      },
      "execution_count": 5,
      "outputs": [
        {
          "output_type": "stream",
          "name": "stdout",
          "text": [
            "digite a media:8\n",
            "aprovado(a)\n"
          ]
        }
      ]
    },
    {
      "cell_type": "code",
      "source": [
        "media = float(input('digite a media:'))\n",
        "\n",
        "if media >=6.0:\n",
        "  print('passou')\n",
        "if 6.0 > media >=4.0:\n",
        "  print('recuperaçao')\n",
        "if media < 4.0:\n",
        "  print('reprovado')\n",
        "      "
      ],
      "metadata": {
        "colab": {
          "base_uri": "https://localhost:8080/"
        },
        "id": "as4E3zL2vDl3",
        "outputId": "54250096-dd6a-41b4-fcf8-7321686c34c7"
      },
      "execution_count": 6,
      "outputs": [
        {
          "output_type": "stream",
          "name": "stdout",
          "text": [
            "digite a media:5.5\n",
            "recuperaçao\n"
          ]
        }
      ]
    },
    {
      "cell_type": "code",
      "source": [
        "media = float(input('digite a media:'))\n",
        "\n",
        "if media >=6.0:\n",
        "  print('passou')\n",
        "if 6.0 > media >=4.0:\n",
        "  print('recuperaçao')\n",
        "else:\n",
        "  print('reprovado')"
      ],
      "metadata": {
        "colab": {
          "base_uri": "https://localhost:8080/"
        },
        "id": "N5IekOg1wmfN",
        "outputId": "ae82d17d-4c55-4fde-f8b1-87f486ae8e9b"
      },
      "execution_count": 7,
      "outputs": [
        {
          "output_type": "stream",
          "name": "stdout",
          "text": [
            "digite a media:9.1\n",
            "passou\n",
            "reprovado\n"
          ]
        }
      ]
    },
    {
      "cell_type": "markdown",
      "source": [
        "##Elif\n"
      ],
      "metadata": {
        "id": "Kh07U8AvxMri"
      }
    },
    {
      "cell_type": "code",
      "source": [
        "media = float(input('digite a media:'))\n",
        "\n",
        "if media >= 6.0:\n",
        "  print('passou')\n",
        "elif 6.0 > media >= 4.0:\n",
        "  print('recuperação')\n",
        "else:\n",
        "    print('reprovado')\n",
        "\n",
        "\n"
      ],
      "metadata": {
        "colab": {
          "base_uri": "https://localhost:8080/"
        },
        "id": "OwREGop11E20",
        "outputId": "501f6275-092a-462c-8f98-729a08c80653"
      },
      "execution_count": 9,
      "outputs": [
        {
          "output_type": "stream",
          "name": "stdout",
          "text": [
            "digite a media:5.5\n",
            "recuperação\n"
          ]
        }
      ]
    },
    {
      "cell_type": "markdown",
      "source": [
        "##Operadores logico\n"
      ],
      "metadata": {
        "id": "d1VDOVs7B2sV"
      }
    },
    {
      "cell_type": "code",
      "source": [
        "t1 = t2 =True\n",
        "f1 = f2 = False\n"
      ],
      "metadata": {
        "id": "StWNaBtuB6RB"
      },
      "execution_count": 10,
      "outputs": []
    },
    {
      "cell_type": "code",
      "source": [
        "#and\n",
        "if t1 and t2 :\n",
        "  print('expressão verdadeira')\n",
        "else:\n",
        "  print('expressão falsa')  "
      ],
      "metadata": {
        "colab": {
          "base_uri": "https://localhost:8080/"
        },
        "id": "2PWeTaouCdNA",
        "outputId": "b71905fa-fbd1-4bda-9fd8-e7e2d53984e8"
      },
      "execution_count": 12,
      "outputs": [
        {
          "output_type": "stream",
          "name": "stdout",
          "text": [
            "expressão verdadeira\n"
          ]
        }
      ]
    },
    {
      "cell_type": "code",
      "source": [
        "#or\n",
        "if f1 or f2 :\n",
        "  print('expressão verdadeira')\n",
        "else:\n",
        "  print('expressão falsa') "
      ],
      "metadata": {
        "colab": {
          "base_uri": "https://localhost:8080/"
        },
        "id": "rYlWwdW7C37U",
        "outputId": "d5cfca45-8ed9-4fd6-e7f6-c37bc826626b"
      },
      "execution_count": 15,
      "outputs": [
        {
          "output_type": "stream",
          "name": "stdout",
          "text": [
            "expressão falsa\n"
          ]
        }
      ]
    },
    {
      "cell_type": "code",
      "source": [
        "#not\n",
        "if not f2 :\n",
        "  print('expressão verdadeira')\n",
        "else:\n",
        "  print('expressão falsa') "
      ],
      "metadata": {
        "colab": {
          "base_uri": "https://localhost:8080/"
        },
        "id": "LG9VBJT3C53M",
        "outputId": "0d1666b4-4ac1-42f2-ddeb-812e210da0b8"
      },
      "execution_count": 19,
      "outputs": [
        {
          "output_type": "stream",
          "name": "stdout",
          "text": [
            "expressão verdadeira\n"
          ]
        }
      ]
    },
    {
      "cell_type": "code",
      "source": [
        "#in\n",
        "lista = 'José da Silva, Maria Oliveira, Pedro Martins, Ana Souza, Carlos Rodrigues, Juliana Santos, Bruno Gomes, Beatriz Costa, Felipe Almeida, Mariana Fernandes, João Pinto, Luísa Nascimento, Gabriel Souza, Manuela Santos, Thiago Oliveira, Sofia Ferreira, Rafael Albuquerque, Isabella Gomes, Bruno Costa, Maria Martins, Rafaela Souza, Matheus Fernandes, Luísa Almeida, Beatriz Pinto, Mariana Rodrigues, Gabriel Nascimento, João Ferreira, Maria Albuquerque, Felipe Oliveira'"
      ],
      "metadata": {
        "id": "et2mbZU7DY3E"
      },
      "execution_count": 21,
      "outputs": []
    },
    {
      "cell_type": "code",
      "source": [
        "nome_1 = 'Mariana Rodrigues'\n",
        "nome_2 = 'Marcelo Nogueira'\n"
      ],
      "metadata": {
        "id": "w9BNJ_IfDtIA"
      },
      "execution_count": 22,
      "outputs": []
    },
    {
      "cell_type": "code",
      "source": [
        "lista = 'José da Silva, Maria Oliveira, Pedro Martins, Ana Souza, Carlos Rodrigues, Juliana Santos, Bruno Gomes, Beatriz Costa, Felipe Almeida, Mariana Fernandes, João Pinto, Luísa Nascimento, Gabriel Souza, Manuela Santos, Thiago Oliveira, Sofia Ferreira, Rafael Albuquerque, Isabella Gomes, Bruno Costa, Maria Martins, Rafaela Souza, Matheus Fernandes, Luísa Almeida, Beatriz Pinto, Mariana Rodrigues, Gabriel Nascimento, João Ferreira, Maria Albuquerque, Felipe Oliveira'\n",
        "lista\n"
      ],
      "metadata": {
        "colab": {
          "base_uri": "https://localhost:8080/",
          "height": 71
        },
        "id": "lV_5I9vrDw4Z",
        "outputId": "b0e12660-19bd-47e7-dd1e-9e45919943dd"
      },
      "execution_count": 23,
      "outputs": [
        {
          "output_type": "execute_result",
          "data": {
            "text/plain": [
              "'José da Silva, Maria Oliveira, Pedro Martins, Ana Souza, Carlos Rodrigues, Juliana Santos, Bruno Gomes, Beatriz Costa, Felipe Almeida, Mariana Fernandes, João Pinto, Luísa Nascimento, Gabriel Souza, Manuela Santos, Thiago Oliveira, Sofia Ferreira, Rafael Albuquerque, Isabella Gomes, Bruno Costa, Maria Martins, Rafaela Souza, Matheus Fernandes, Luísa Almeida, Beatriz Pinto, Mariana Rodrigues, Gabriel Nascimento, João Ferreira, Maria Albuquerque, Felipe Oliveira'"
            ],
            "application/vnd.google.colaboratory.intrinsic+json": {
              "type": "string"
            }
          },
          "metadata": {},
          "execution_count": 23
        }
      ]
    },
    {
      "cell_type": "code",
      "source": [
        "if nome_1 in lista:\n",
        "  print(f'{nome_1} está na lista')\n",
        "else:\n",
        "  print(f'{nome_1} não está na lista')\n"
      ],
      "metadata": {
        "colab": {
          "base_uri": "https://localhost:8080/"
        },
        "id": "C0y0yn8QDzkT",
        "outputId": "6be88fdd-9c8e-4f7b-dbc4-d75dea8abc2c"
      },
      "execution_count": 24,
      "outputs": [
        {
          "output_type": "stream",
          "name": "stdout",
          "text": [
            "Mariana Rodrigues está na lista\n"
          ]
        }
      ]
    },
    {
      "cell_type": "code",
      "source": [
        "if nome_2 in lista:\n",
        "  print(f'{nome_2} está na lista')\n",
        "else:\n",
        "  print(f'{nome_2} não está na lista')\n"
      ],
      "metadata": {
        "colab": {
          "base_uri": "https://localhost:8080/"
        },
        "id": "8CbQ94iID3fa",
        "outputId": "201855ae-81ec-452b-e1ea-459b79b63713"
      },
      "execution_count": 25,
      "outputs": [
        {
          "output_type": "stream",
          "name": "stdout",
          "text": [
            "Marcelo Nogueira não está na lista\n"
          ]
        }
      ]
    }
  ]
}